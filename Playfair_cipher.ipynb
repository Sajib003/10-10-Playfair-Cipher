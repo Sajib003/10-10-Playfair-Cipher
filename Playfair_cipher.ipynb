{
 "cells": [
  {
   "cell_type": "markdown",
   "metadata": {},
   "source": [
    "# Encryption"
   ]
  },
  {
   "cell_type": "code",
   "execution_count": 1,
   "metadata": {},
   "outputs": [
    {
     "name": "stdout",
     "output_type": "stream",
     "text": [
      "ENTER MSG:The Playfair cipher or Playfair square or Wheatstone-Playfair cipher is a manual symmetric encryption technique and was  the first literal digram substitution cipher. The scheme was invented in 1854 by Charles Wheatstone, but bears the name  of Lord Playfair for promoting its use.  The technique encrypts pairs of letters (bigrams or digrams), instead of single  letters as in the simple substitution cipher and rather more complex Vigenere cipher systems then in use. The Playfair  is thus significantly harder to break since the frequency analysis used for simple substitution ciphers does not work  with it. The frequency analysis of bigrams is possible, but considerably more difficult. With possible bigrams rather  than the 26 possible monograms (single symbols, usually letters in this context), a considerably larger cipher text is  required in order to be useful.\n",
      "Length of Message: 873\n",
      "Key: ,gZQf5X`XU(QPUw2<yf'\n"
     ]
    }
   ],
   "source": [
    "import random\n",
    "import string\n",
    "\n",
    "msg = str(input(\"ENTER MSG:\"))\n",
    "print(\"Length of Message:\",len(msg))\n",
    "\n",
    "def randomKey(stringLength=20):\n",
    "    password_characters = string.ascii_letters + string.digits + string.punctuation\n",
    "    return ''.join(random.choice(password_characters) for i in range(stringLength))\n",
    "key=randomKey()\n",
    "print (\"Key:\",key)"
   ]
  },
  {
   "cell_type": "code",
   "execution_count": 2,
   "metadata": {},
   "outputs": [
    {
     "data": {
      "text/plain": [
       "[[',', 'g', 'Z', 'Q', 'f', '5', 'X', '`', 'U', '('],\n",
       " ['P', 'w', '2', '<', 'y', \"'\", ' ', '!', '\"', '#'],\n",
       " ['$', '%', '&', ')', '*', '+', '-', '.', '/', '0'],\n",
       " ['1', '3', '4', '6', '7', '8', '9', ':', ';', '='],\n",
       " ['>', '?', '@', 'A', 'B', 'C', 'D', 'E', 'F', 'G'],\n",
       " ['H', 'I', 'J', 'K', 'L', 'M', 'N', 'O', 'R', 'S'],\n",
       " ['T', 'V', 'W', 'Y', '[', '\\\\', ']', '^', '_', 'a'],\n",
       " ['b', 'c', 'd', 'e', 'h', 'i', 'j', 'k', 'l', 'm'],\n",
       " ['n', 'o', 'p', 'q', 'r', 's', 't', 'u', 'v', 'x'],\n",
       " ['z', '{', '|', '}', '~', '£', '«', '°', '±', '»']]"
      ]
     },
     "execution_count": 2,
     "metadata": {},
     "output_type": "execute_result"
    }
   ],
   "source": [
    "def matrix(x, y, initial):\n",
    "    return [[initial for i in range(x)] for j in range(y)]\n",
    "\n",
    "result = []\n",
    "for c in key:  # storing key\n",
    "    if c not in result:\n",
    "        result.append(c)\n",
    "\n",
    "for i in range(32, 127):  # storing other character\n",
    "    if chr(i) not in result:\n",
    "        result.append(chr(i))\n",
    "for i in range(145, 249):  # storing other character\n",
    "    if chr(i) not in result:\n",
    "        if (i==163):\n",
    "            result.append(chr(i))\n",
    "        elif (i==171):\n",
    "            result.append(chr(i))\n",
    "        elif (i==187):\n",
    "            result.append(chr(i))\n",
    "        elif (i==176):\n",
    "            result.append(chr(i))\n",
    "        elif (i==177):\n",
    "            result.append(chr(i))\n",
    "        else:\n",
    "            pass\n",
    "\n",
    "k = 0\n",
    "my_matrix = matrix(10, 10, 0)  # initialize matrix\n",
    "for i in range(0, 10):  # making matrix\n",
    "    for j in range(0, 10):\n",
    "        my_matrix[i][j] = result[k]\n",
    "        k += 1\n",
    "my_matrix"
   ]
  },
  {
   "cell_type": "code",
   "execution_count": 3,
   "metadata": {},
   "outputs": [
    {
     "name": "stdout",
     "output_type": "stream",
     "text": [
      "Cypher Text Array: ['[b', 'j<', '\"b', '[#', '([', 'hs', 'wj', 'ds', 'ih', 'ty', 'ps', '!w', 'm_', '*y', '\\\\m', 'ty', 'tr', 'x^', 'qh', 'wt', 'ty', '[d', 'mY', 'ut', 'up', 'qb', '$ ', 'm_', '*y', '\\\\m', 'ty', 'dj', 'rd', 'hq', \"'j\", \"t'\", ']#', 'xm', 'ov', '_m', \"'t\", '#h', 'bh', 'us', 'jd', '<j', 'ob', '~*', 'qu', 'cs', 'tP', 'qj', 'di', 'sb', 'rv', 'j<', 'Tx', 'j2', '#V', \"t'\", '-«', 'ih', 'yX', 'hs', 'tu', '\"j', 'js', 'hq', '_m', '2j', 'c5', 'x[', 'j#', 'tv', 'in', 'sj', 'uv', 'sj', 'po', 'wj', 'ds', 'ih', 'u*', 'P]', 'ih', \"'t\", 'di', 'hb', 'j<', '#V', \"t'\", 'bs', 'ql', 'ou', 'he', \"'j\", 'tP', '39', 'Z8', 'Pj', \"'!\", 'Bi', '[x', 'mh', \"t'\", '[d', 'mY', 'ut', 'up', 'qb', 'XP', 'kn', '«-', 'ch', '[x', \"t'\", 'rj', 'j<', 'xT', 'bh', '- ', 'wt', 'Xy', 'Ir', 'ph', '!w', 'm_', '*y', '\\\\m', 'ty', 'gr', 'ty', 'qs', 'xc', 'pu', 'bs', 'Xw', 'js', \"t'\", 'vt', 'k)', '- ', 'P]', 'ih', '-«', 'hd', 'br', 'es', 'qk', '<j', 'ob', '~*', 'qu', \"t'\", 'xW', 'hs', \"t'\", 'rg', '\"j', 'jq', 'qj', 'st', '#X', 'cj', 'fo', 'mx', \"t'\", 'ps', '2j', 'c5', 'x[', 'ix', '$Q', \"'j\", 'ot', 'qj', 'Wm', 'wt', 'Xy', '£s', 'o,', 'mh', '- ', '\"j', 'jq', 'qj', 'st', '#]', \"t'\", 'bs', '-«', 'ih', \"'t\", 'jb', 'vd', 'j<', 'tv', 'in', 'sj', 'uv', 'sj', 'po', 'wj', 'ds', 'ih', 'ty', 'Tx', 'j2', 'x[', 'rj', 'hq', '#j', 'ps', 'j<', 'o{', 'dx', 'mh', 't#', '\\\\c', 'Qc', 'qb', 'qh', 'wj', 'ds', 'ih', 'ty', \"r'\", 'tu', 'hb', \"t'\", 'rj', 'bq', \"'j\", 'tP', 'vt', 'k)', 'P]', 'ih', '!w', 'm_', '*y', '\\\\m', 'ty', \"'j\", \"t'\", 'rj', 'vt', \"'t\", 'c5', 'sb', '5h', 'mV', 'ou', 'h\"', 'yj', '[x', 'eh', 'ty', 'up', 'Pj', 'qh', '^m', \"'t\", 'bs', 'dh', '-«', 'ih', 'yX', 'qh', 'rv', 'bq', 'hw', '#]', 'xT', 'h\"', '£s', \"t'\", 'vt', 'he', 'yX', 'ps', \"'t\", 'jb', 'vd', 'j<', 'tv', 'in', 'sj', 'uv', 'sj', 'po', 'wj', 'ds', 'ih', 'st', '2j', 'qc', \"t'\", 'op', '«-', '%{', 'uh', '- ', '!2', 'js', 'jy', 'js', '-!', '[b', 'j<', 'y~', 'q}', 'qk', 'ob', \"'!\", 'Tx', '_m', \"'r\", 's£', 'wt', 'Xy', 'cj', 'fo', 'mx', \"t'\", 's£', '2t', 'pt', '£s', 'cm', 'bQ', 'Pj', 'vu', 'wj', 'po', '£s', 'eh', 'x[', 'cm', \"'!\", 'cx', 'qh', '2j', 'h5', '5h', 'ko', 'jv', '-!', '\\\\d', 'rj', '2t', 'pt', '£s', 'cm', 'j<', 'cj', 'fo', 'mx', \"t'\", 'x[', 'rj', 'hq', '- ', '-«', 'm[', 'tP', 'rj', 'j<', '<4', '2t', 'pt', '£s', 'cm', 'j<', 'cx', 'op', 'fo', 'mx', \"t'\", '5x', 'bs', 'Uc', 'j<', \"r'\", 'bc', 'vc', 'n5', '!t', 'tv', '_m', 'h\"', '\"j', 'jq', 'qj', 'st', \"'j\", 'tP', 'rj', 's£', 'wj', 'po', 'qj', 'nu', '$Q', '#]', 'wj', 'po', '£s', 'eh', 'x[', 'cm', \"'!\", 'm_', 'of', 'hq', 'wj', 'ds', 'ih', 'ty', 'qj', 'nu', \"'j\", \"t'\", 'yt', 'q}', 'sk', 'qh', 'j2', 'bs', 'wt', 'ph', 'hq', '-«', 'tw', 'ch', '!t', 'qi', '`r', 'k/']\n",
      "CIPHER TEXT: [bj<\"b[#([hswjdsihtyps!wm_*y\\mtytrx^qhwtty[dmYutupqb$ m_*y\\mtydjrdhq'jt']#xmov_m't#hbhusjd<job~*qucstPqjdisbrvj<Txj2#Vt'-«ihyXhstu\"jjshq_m2jc5x[j#tvinsjuvsjpowjdsihu*P]ih'tdihbj<#Vt'bsqlouhe'jtP39Z8Pj'!Bi[xmht'[dmYutupqbXPkn«-ch[xt'rjj<xTbh- wtXyIrph!wm_*y\\mtygrtyqsxcpubsXwjst'vtk)- P]ih-«hdbresqk<job~*qut'xWhst'rg\"jjqqjst#Xcjfomxt'ps2jc5x[ix$Q'jotqjWmwtXy£so,mh- \"jjqqjst#]t'bs-«ih'tjbvdj<tvinsjuvsjpowjdsihtyTxj2x[rjhq#jpsj<o{dxmht#\\cQcqbqhwjdsihtyr'tuhbt'rjbq'jtPvtk)P]ih!wm_*y\\mty'jt'rjvt'tc5sb5hmVouh\"yj[xehtyupPjqh^m'tbsdh-«ihyXqhrvbqhw#]xTh\"£st'vtheyXps'tjbvdj<tvinsjuvsjpowjdsihst2jqct'op«-%{uh- !2jsjyjs-![bj<y~q}qkob'!Tx_m'rs£wtXycjfomxt's£2tpt£scmbQPjvuwjpo£sehx[cm'!cxqh2jh55hkojv-!\\drj2tpt£scmj<cjfomxt'x[rjhq- -«m[tPrjj<<42tpt£scmj<cxopfomxt'5xbsUcj<r'bcvcn5!ttv_mh\"\"jjqqjst'jtPrjs£wjpoqjnu$Q#]wjpo£sehx[cm'!m_ofhqwjdsihtyqjnu'jt'ytq}skqhj2bswtphhq-«twch!tqi`rk/\n"
     ]
    }
   ],
   "source": [
    "def locindex(c):  # get location of each character\n",
    "    loc = []\n",
    "    for i, j in enumerate(my_matrix):\n",
    "        for k, l in enumerate(j):\n",
    "            if c == l:\n",
    "                loc.append(i)\n",
    "                loc.append(k)\n",
    "                return loc\n",
    "\n",
    "msg_arr=[]\n",
    "i = 0\n",
    "for s in range(0, len(msg) + 1, 2):\n",
    "    if s < len(msg) - 1:\n",
    "        if msg[s] == msg[s + 1]:\n",
    "            msg = msg[:s + 1] + 'X' + msg[s + 1:]\n",
    "if len(msg) % 2 != 0:\n",
    "    msg = msg[:] + 'X'\n",
    "while i < len(msg):\n",
    "    loc =[]\n",
    "    loc = locindex(msg[i])\n",
    "    loc1 = []\n",
    "    loc1 = locindex(msg[i + 1])\n",
    "    if loc[1] == loc1[1]:\n",
    "        msg_arr.append(\"{}{}\".format(my_matrix[(loc[0] + 1) % 10][loc[1]], my_matrix[(loc1[0] + 1) % 10][loc1[1]]))\n",
    "    elif loc[0] == loc1[0]:\n",
    "        msg_arr.append(\"{}{}\".format(my_matrix[loc[0]][(loc[1] + 1) % 10], my_matrix[loc1[0]][(loc1[1] + 1) % 10]))\n",
    "    else:\n",
    "        msg_arr.append(\"{}{}\".format(my_matrix[loc[0]][loc1[1]], my_matrix[loc1[0]][loc[1]]))\n",
    "    i = i + 2\n",
    "print('Cypher Text Array:',msg_arr)\n",
    "cipher=''.join(msg_arr)\n",
    "print(\"CIPHER TEXT:\",cipher)"
   ]
  },
  {
   "cell_type": "markdown",
   "metadata": {},
   "source": [
    "# Decryption"
   ]
  },
  {
   "cell_type": "code",
   "execution_count": 4,
   "metadata": {},
   "outputs": [
    {
     "name": "stdout",
     "output_type": "stream",
     "text": [
      "Cypher Text Array: ['Th', 'e ', 'Pl', 'ay', 'fa', 'ir', ' c', 'ip', 'he', 'r ', 'or', ' P', 'la', 'yf', 'ai', 'r ', 'sq', 'ua', 're', ' o', 'r ', 'Wh', 'ea', 'ts', 'to', 'ne', '-P', 'la', 'yf', 'ai', 'r ', 'ci', 'ph', 'er', ' i', 's ', 'a ', 'ma', 'nu', 'al', ' s', 'ym', 'me', 'tr', 'ic', ' e', 'nc', 'ry', 'pt', 'io', 'n ', 'te', 'ch', 'ni', 'qu', 'e ', 'an', 'd ', 'wa', 's ', ' t', 'he', ' f', 'ir', 'st', ' l', 'it', 'er', 'al', ' d', 'ig', 'ra', 'm ', 'su', 'bs', 'ti', 'tu', 'ti', 'on', ' c', 'ip', 'he', 'r.', ' T', 'he', ' s', 'ch', 'em', 'e ', 'wa', 's ', 'in', 've', 'nt', 'ed', ' i', 'n ', '18', '54', ' b', 'y ', 'Ch', 'ar', 'le', 's ', 'Wh', 'ea', 'ts', 'to', 'ne', ', ', 'bu', 't ', 'be', 'ar', 's ', 'th', 'e ', 'na', 'me', ' X', ' o', 'f ', 'Lo', 'rd', ' P', 'la', 'yf', 'ai', 'r ', 'fo', 'r ', 'pr', 'om', 'ot', 'in', 'g ', 'it', 's ', 'us', 'e.', ' X', ' T', 'he', ' t', 'ec', 'hn', 'iq', 'ue', ' e', 'nc', 'ry', 'pt', 's ', 'pa', 'ir', 's ', 'of', ' l', 'et', 'te', 'rs', ' (', 'bi', 'gr', 'am', 's ', 'or', ' d', 'ig', 'ra', 'ms', '),', ' i', 'ns', 'te', 'ad', ' o', 'f ', 'si', 'ng', 'le', ' X', ' l', 'et', 'te', 'rs', ' a', 's ', 'in', ' t', 'he', ' s', 'im', 'pl', 'e ', 'su', 'bs', 'ti', 'tu', 'ti', 'on', ' c', 'ip', 'he', 'r ', 'an', 'd ', 'ra', 'th', 'er', ' m', 'or', 'e ', 'co', 'mp', 'le', 'x ', 'Vi', 'ge', 'ne', 're', ' c', 'ip', 'he', 'r ', 'sy', 'st', 'em', 's ', 'th', 'en', ' i', 'n ', 'us', 'e.', ' T', 'he', ' P', 'la', 'yf', 'ai', 'r ', ' i', 's ', 'th', 'us', ' s', 'ig', 'ni', 'fi', 'ca', 'nt', 'ly', ' h', 'ar', 'de', 'r ', 'to', ' b', 're', 'ak', ' s', 'in', 'ce', ' t', 'he', ' f', 're', 'qu', 'en', 'cy', ' a', 'na', 'ly', 'si', 's ', 'us', 'ed', ' f', 'or', ' s', 'im', 'pl', 'e ', 'su', 'bs', 'ti', 'tu', 'ti', 'on', ' c', 'ip', 'he', 'rs', ' d', 'oe', 's ', 'no', 't ', 'wo', 'rk', ' X', ' w', 'it', 'h ', 'it', '. ', 'Th', 'e ', 'fr', 'eq', 'ue', 'nc', 'y ', 'an', 'al', 'ys', 'is', ' o', 'f ', 'bi', 'gr', 'am', 's ', 'is', ' p', 'os', 'si', 'bl', 'e,', ' b', 'ut', ' c', 'on', 'si', 'de', 'ra', 'bl', 'y ', 'mo', 're', ' d', 'if', 'fi', 'cu', 'lt', '. ', 'Wi', 'th', ' p', 'os', 'si', 'bl', 'e ', 'bi', 'gr', 'am', 's ', 'ra', 'th', 'er', ' X', ' t', 'ha', 'n ', 'th', 'e ', '26', ' p', 'os', 'si', 'bl', 'e ', 'mo', 'no', 'gr', 'am', 's ', '(s', 'in', 'gl', 'e ', 'sy', 'mb', 'ol', 's,', ' u', 'su', 'al', 'ly', ' l', 'et', 'te', 'rs', ' i', 'n ', 'th', 'is', ' c', 'on', 'te', 'xt', '),', ' a', ' c', 'on', 'si', 'de', 'ra', 'bl', 'y ', 'la', 'rg', 'er', ' c', 'ip', 'he', 'r ', 'te', 'xt', ' i', 's ', ' r', 'eq', 'ui', 're', 'd ', 'in', ' o', 'rd', 'er', ' t', 'o ', 'be', ' u', 'se', 'fu', 'l.']\n",
      "Message: The Playfair cipher or Playfair square or Wheatstone-Playfair cipher is a manual symmetric encryption technique and was  the first literal digram substitution cipher. The scheme was invented in 1854 by Charles Wheatstone, but bears the name X of Lord Playfair for promoting its use. X The technique encrypts pairs of letters (bigrams or digrams), instead of single X letters as in the simple substitution cipher and rather more complex Vigenere cipher systems then in use. The Playfair  is thus significantly harder to break since the frequency analysis used for simple substitution ciphers does not work X with it. The frequency analysis of bigrams is possible, but considerably more difficult. With possible bigrams rather X than the 26 possible monograms (single symbols, usually letters in this context), a considerably larger cipher text is  required in order to be useful.\n"
     ]
    }
   ],
   "source": [
    "def locindex(c):  # get location of each character\n",
    "    loc = []\n",
    "    for i, j in enumerate(my_matrix):\n",
    "        for k, l in enumerate(j):\n",
    "            if c == l:\n",
    "                loc.append(i)\n",
    "                loc.append(k)\n",
    "                return loc\n",
    "    \n",
    "msg_arr=[]        \n",
    "i = 0\n",
    "while i < len(cipher):\n",
    "    loc = []\n",
    "    loc = locindex(cipher[i])\n",
    "    loc1 = []\n",
    "    loc1 = locindex(cipher[i + 1])\n",
    "    if loc[1] == loc1[1]:\n",
    "        msg_arr.append(\"{}{}\".format(my_matrix[(loc[0] - 1) % 10][loc[1]], my_matrix[(loc1[0] - 1) % 10][loc1[1]]))\n",
    "    elif loc[0] == loc1[0]:\n",
    "        msg_arr.append(\"{}{}\".format(my_matrix[loc[0]][(loc[1] - 1) % 10], my_matrix[loc1[0]][(loc1[1] - 1) % 10]))\n",
    "    else:\n",
    "        msg_arr.append(\"{}{}\".format(my_matrix[loc[0]][loc1[1]], my_matrix[loc1[0]][loc[1]]))\n",
    "    i = i + 2\n",
    "    \n",
    "print('Cypher Text Array:',msg_arr)\n",
    "cipher=''.join(msg_arr)\n",
    "print(\"Message:\",cipher)"
   ]
  },
  {
   "cell_type": "markdown",
   "metadata": {},
   "source": [
    "# Using regular Expression to remove extra ''X\""
   ]
  },
  {
   "cell_type": "code",
   "execution_count": 5,
   "metadata": {},
   "outputs": [
    {
     "name": "stdout",
     "output_type": "stream",
     "text": [
      "Received Text: The Playfair cipher or Playfair square or Wheatstone-Playfair cipher is a manual symmetric encryption technique and was  the first literal digram substitution cipher. The scheme was invented in 1854 by Charles Wheatstone, but bears the name  of Lord Playfair for promoting its use.  The technique encrypts pairs of letters (bigrams or digrams), instead of single  letters as in the simple substitution cipher and rather more complex Vigenere cipher systems then in use. The Playfair  is thus significantly harder to break since the frequency analysis used for simple substitution ciphers does not work  with it. The frequency analysis of bigrams is possible, but considerably more difficult. With possible bigrams rather  than the 26 possible monograms (single symbols, usually letters in this context), a considerably larger cipher text is  required in order to be useful.\n",
      "Length of Message: 873\n"
     ]
    }
   ],
   "source": [
    "import re\n",
    "text=cipher\n",
    "test='X'\n",
    "\n",
    "res=[]\n",
    "for i in range(len(text)):\n",
    "    if text.startswith(test, i):\n",
    "        res.append(i)\n",
    "new_msg=text\n",
    "for i in range(len(res)-1):\n",
    "    if(res[i]==(res[i+1]-2)):\n",
    "        new_msg=new_msg[:res[i]]+\"A1-b2_C3\"+new_msg[res[i]+1:]\n",
    "        new_msg=new_msg[:res[i+1]+7]+\"A1-b2_C3\"+new_msg[res[i+1]+8:]\n",
    "if(text[-1:]=='X'):\n",
    "    new_msg=new_msg[:-1]\n",
    "new_msg=new_msg[:].replace(\"A1-b2_C3\",'')\n",
    "\n",
    "new_msg = re.sub(r'(?<=[a-z])X(?=[a-z])','',new_msg)\n",
    "new_msg = re.sub(r'(?<=[^A-Za-z0-9])X(?=[^A-Za-z0-9])','',new_msg)\n",
    "print('Received Text:',new_msg)\n",
    "print('Length of Message:',len(new_msg))"
   ]
  }
 ],
 "metadata": {
  "kernelspec": {
   "display_name": "Python 3",
   "language": "python",
   "name": "python3"
  },
  "language_info": {
   "codemirror_mode": {
    "name": "ipython",
    "version": 3
   },
   "file_extension": ".py",
   "mimetype": "text/x-python",
   "name": "python",
   "nbconvert_exporter": "python",
   "pygments_lexer": "ipython3",
   "version": "3.7.4"
  }
 },
 "nbformat": 4,
 "nbformat_minor": 2
}
